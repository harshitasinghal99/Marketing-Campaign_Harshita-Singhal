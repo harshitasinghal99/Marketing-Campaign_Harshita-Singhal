{
  "nbformat": 4,
  "nbformat_minor": 0,
  "metadata": {
    "colab": {
      "provenance": []
    },
    "kernelspec": {
      "name": "python3",
      "display_name": "Python 3"
    },
    "language_info": {
      "name": "python"
    }
  },
  "cells": [
    {
      "cell_type": "code",
      "execution_count": 1,
      "metadata": {
        "id": "H6Zaukp_Ctp8"
      },
      "outputs": [],
      "source": [
        "#Importing Necessary Libraries\n",
        "import pandas as pd  # For data manipulation\n",
        "import numpy as np   # For numerical operations\n",
        "from sklearn.model_selection import train_test_split  # For splitting data into train and test sets\n",
        "from sklearn.preprocessing import StandardScaler  # For feature scaling\n",
        "from keras.models import Sequential  # For creating sequential neural network models\n",
        "from keras.layers import Dense  # For adding layers to the neural network\n",
        "from keras.callbacks import EarlyStopping  # For early stopping during training\n",
        "import matplotlib.pyplot as plt  # For data visualization"
      ]
    },
    {
      "cell_type": "code",
      "source": [
        "# Load the dataset\n",
        "data = pd.read_csv(\"/content/drive/MyDrive/ifood_df.csv\")"
      ],
      "metadata": {
        "id": "AEpPWQEPC0XE"
      },
      "execution_count": 2,
      "outputs": []
    },
    {
      "cell_type": "code",
      "source": [
        "# Split features and target variable\n",
        "X = data.drop(columns=[\"Response\"])  # Features\n",
        "y = data[\"Response\"]  # Target variable"
      ],
      "metadata": {
        "id": "BgT6DDcrC7iU"
      },
      "execution_count": 3,
      "outputs": []
    },
    {
      "cell_type": "code",
      "source": [
        "# Split data into train and test sets\n",
        "X_train, X_test, y_train, y_test = train_test_split(X, y, test_size=0.2, random_state=42)"
      ],
      "metadata": {
        "id": "gPHCfBXpC-kP"
      },
      "execution_count": 4,
      "outputs": []
    },
    {
      "cell_type": "code",
      "source": [
        "# Data preprocessing\n",
        "scaler = StandardScaler()\n",
        "X_train_scaled = scaler.fit_transform(X_train)  # Scale training features\n",
        "X_test_scaled = scaler.transform(X_test)        # Scale testing features"
      ],
      "metadata": {
        "id": "mmpXrUChDCK-"
      },
      "execution_count": 5,
      "outputs": []
    },
    {
      "cell_type": "code",
      "source": [
        "# Build the neural network model\n",
        "model = Sequential()\n",
        "model.add(Dense(64, activation='relu', input_dim=X_train_scaled.shape[1]))  # Input layer with 64 neurons and ReLU activation\n",
        "model.add(Dense(32, activation='relu'))                                     # Hidden layer with 32 neurons and ReLU activation\n",
        "model.add(Dense(1, activation='sigmoid'))                                   # Output layer with sigmoid activation for binary classification\n"
      ],
      "metadata": {
        "id": "fFTqehjDDFpk"
      },
      "execution_count": 6,
      "outputs": []
    },
    {
      "cell_type": "code",
      "source": [
        "# Compile the model\n",
        "model.compile(optimizer='adam', loss='binary_crossentropy', metrics=['accuracy'])"
      ],
      "metadata": {
        "id": "HkB-523GDJm8"
      },
      "execution_count": 7,
      "outputs": []
    },
    {
      "cell_type": "code",
      "source": [
        "# Train the model\n",
        "early_stopping = EarlyStopping(monitor='val_loss', patience=3, restore_best_weights=True)  # Early stopping to prevent overfitting\n",
        "history = model.fit(X_train_scaled, y_train, epochs=50, batch_size=32, validation_split=0.2, callbacks=[early_stopping])"
      ],
      "metadata": {
        "colab": {
          "base_uri": "https://localhost:8080/"
        },
        "id": "kqm0tBiKDOTq",
        "outputId": "af776c30-9e26-442a-a7b0-dc8f6ee7e1b5"
      },
      "execution_count": 8,
      "outputs": [
        {
          "output_type": "stream",
          "name": "stdout",
          "text": [
            "Epoch 1/50\n",
            "45/45 [==============================] - 1s 7ms/step - loss: 0.4982 - accuracy: 0.7789 - val_loss: 0.4016 - val_accuracy: 0.8499\n",
            "Epoch 2/50\n",
            "45/45 [==============================] - 0s 3ms/step - loss: 0.3256 - accuracy: 0.8788 - val_loss: 0.3473 - val_accuracy: 0.8584\n",
            "Epoch 3/50\n",
            "45/45 [==============================] - 0s 3ms/step - loss: 0.2740 - accuracy: 0.8930 - val_loss: 0.3174 - val_accuracy: 0.8725\n",
            "Epoch 4/50\n",
            "45/45 [==============================] - 0s 3ms/step - loss: 0.2447 - accuracy: 0.9050 - val_loss: 0.3025 - val_accuracy: 0.8725\n",
            "Epoch 5/50\n",
            "45/45 [==============================] - 0s 3ms/step - loss: 0.2240 - accuracy: 0.9100 - val_loss: 0.2995 - val_accuracy: 0.8782\n",
            "Epoch 6/50\n",
            "45/45 [==============================] - 0s 3ms/step - loss: 0.2108 - accuracy: 0.9135 - val_loss: 0.3015 - val_accuracy: 0.8782\n",
            "Epoch 7/50\n",
            "45/45 [==============================] - 0s 3ms/step - loss: 0.1997 - accuracy: 0.9164 - val_loss: 0.3067 - val_accuracy: 0.8584\n",
            "Epoch 8/50\n",
            "45/45 [==============================] - 0s 3ms/step - loss: 0.1905 - accuracy: 0.9220 - val_loss: 0.3053 - val_accuracy: 0.8584\n"
          ]
        }
      ]
    },
    {
      "cell_type": "code",
      "source": [
        "# Evaluate the model\n",
        "loss, accuracy = model.evaluate(X_test_scaled, y_test)\n",
        "print(\"Test Loss:\", loss)\n",
        "print(\"Test Accuracy:\", accuracy)"
      ],
      "metadata": {
        "colab": {
          "base_uri": "https://localhost:8080/"
        },
        "id": "Fo418z5CDVhK",
        "outputId": "128e7680-6c18-4424-de5a-769ad269e912"
      },
      "execution_count": 9,
      "outputs": [
        {
          "output_type": "stream",
          "name": "stdout",
          "text": [
            "14/14 [==============================] - 0s 2ms/step - loss: 0.2648 - accuracy: 0.8934\n",
            "Test Loss: 0.264812707901001\n",
            "Test Accuracy: 0.8934240341186523\n"
          ]
        }
      ]
    },
    {
      "cell_type": "code",
      "source": [
        "# Optionally, you can plot training history\n",
        "import matplotlib.pyplot as plt"
      ],
      "metadata": {
        "id": "DsQn3imFDY-0"
      },
      "execution_count": 10,
      "outputs": []
    },
    {
      "cell_type": "code",
      "source": [
        "def plot_history(history):\n",
        "    plt.plot(history.history['accuracy'], label='accuracy')\n",
        "    plt.plot(history.history['val_accuracy'], label='val_accuracy')\n",
        "    plt.xlabel('Epoch')\n",
        "    plt.ylabel('Accuracy')\n",
        "    plt.legend()\n",
        "    plt.show()"
      ],
      "metadata": {
        "id": "G-q3z8c3DdAf"
      },
      "execution_count": 11,
      "outputs": []
    },
    {
      "cell_type": "code",
      "source": [
        "plot_history(history)"
      ],
      "metadata": {
        "colab": {
          "base_uri": "https://localhost:8080/",
          "height": 449
        },
        "id": "ZvszENf2DgAB",
        "outputId": "e8b4b3a6-8dfe-4d6d-dd7d-32327ba9a4c0"
      },
      "execution_count": 12,
      "outputs": [
        {
          "output_type": "display_data",
          "data": {
            "text/plain": [
              "<Figure size 640x480 with 1 Axes>"
            ],
            "image/png": "[encoded data removed]"
          },
          "metadata": {}
        }
      ]
    }
  ]
}